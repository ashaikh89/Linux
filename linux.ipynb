{
 "cells": [
  {
   "cell_type": "code",
   "execution_count": null,
   "id": "4632f8ab",
   "metadata": {},
   "outputs": [],
   "source": [
    "# To update repository in centos 8\n",
    "\n",
    "cd/etc/yum.repos.d/\n",
    "\n",
    "mv */mnt/\n",
    "\n",
    "vi centos.repo\n",
    "-----------------------------------------\n",
    "\n",
    "[BaseOS]\n",
    "\n",
    "name=CentOS-8 - Base\n",
    "\n",
    "baseurl=http://vault.centos.org/8.5.2111/BaseOS/$basearch/os/\n",
    "\n",
    "gpgcheck=1\n",
    "\n",
    "gpgkey=file:///etc/pki/rpm-gpg/RPM-GPG-KEY-centosofficial\n",
    "\n",
    "enabled=1\n",
    "\n",
    " \n",
    "\n",
    "[AppStream]\n",
    "\n",
    "name=CentOS-8 - AppStream\n",
    "\n",
    "baseurl=http://vault.centos.org/8.5.2111/AppStream/$basearch/os/\n",
    "\n",
    "gpgcheck=1\n",
    "\n",
    "gpgkey=file:///etc/pki/rpm-gpg/RPM-GPG-KEY-centosofficial\n",
    "\n",
    "enabled=1\n",
    "\n",
    " \n",
    "\n",
    "[extras]\n",
    "\n",
    "name=CentOS-8 - Extras\n",
    "\n",
    "baseurl=http://vault.centos.org/8.5.2111/extras/$basearch/os/\n",
    "\n",
    "gpgcheck=1\n",
    "\n",
    "gpgkey=file:///etc/pki/rpm-gpg/RPM-GPG-KEY-centosofficial\n",
    "\n",
    "enabled=1\n",
    "\n",
    "--------------------------------------------\n",
    "\n",
    "save file :Wq!\n",
    "\n",
    "yum clean all\n",
    "    "
   ]
  },
  {
   "cell_type": "code",
   "execution_count": null,
   "id": "6c0cb295",
   "metadata": {},
   "outputs": [],
   "source": [
    "# ********NFS*************\n",
    "-------Server--------------\n",
    "1. yum install nfs-utils\n",
    "2. systemctl start nfs-server.service\n",
    "3. systemctl enable nfs-server.service\n",
    "4. systemctl status nfs-server.service\n",
    "5. systemctl start rpcbind\n",
    "6.systemctl enable rpcbind\n",
    "7. systemctl status rpcbind\n",
    "8. mkdir /mnt/nfs-shares\n",
    "9. vim /etc/exports -----------/mnt/nfs-shares *(rw,sync)\n",
    "10. systemctl restart nfs-server.service\n",
    "11. exportfs -rv\n",
    "12.firewall-cmd --permanent --add-service=nfs\n",
    "13.firewall-cmd --permanent --add-service=rpc-bind\n",
    "14.firewall-cmd --permanent --add-service=mountd\n",
    "15.firewall-cmd --reload\n",
    "16. ip r l\n",
    "\n",
    "-------------Client----------------\n",
    "1. showmount -e\n",
    "2. showmount -e 192.168.0.121(serverip)\n",
    "3. mkdir /mnt/db\n",
    "4. mount -t nfs 192.168.0.121:/mnt/nfs_shares /mnt/db\n",
    "    \n",
    "    \n"
   ]
  },
  {
   "cell_type": "code",
   "execution_count": null,
   "id": "2b97ec5a",
   "metadata": {},
   "outputs": [],
   "source": []
  },
  {
   "cell_type": "code",
   "execution_count": null,
   "id": "4f24cf16",
   "metadata": {},
   "outputs": [],
   "source": []
  },
  {
   "cell_type": "code",
   "execution_count": null,
   "id": "75c1dd71",
   "metadata": {},
   "outputs": [],
   "source": []
  },
  {
   "cell_type": "code",
   "execution_count": null,
   "id": "e63ce2d7",
   "metadata": {},
   "outputs": [],
   "source": []
  },
  {
   "cell_type": "code",
   "execution_count": null,
   "id": "1dd7d97a",
   "metadata": {},
   "outputs": [],
   "source": []
  },
  {
   "cell_type": "code",
   "execution_count": null,
   "id": "30255d7a",
   "metadata": {},
   "outputs": [],
   "source": []
  },
  {
   "cell_type": "code",
   "execution_count": null,
   "id": "f9d2baa9",
   "metadata": {},
   "outputs": [],
   "source": []
  },
  {
   "cell_type": "code",
   "execution_count": null,
   "id": "7960f5ae",
   "metadata": {},
   "outputs": [],
   "source": []
  },
  {
   "cell_type": "code",
   "execution_count": null,
   "id": "c9dcf322",
   "metadata": {},
   "outputs": [],
   "source": []
  }
 ],
 "metadata": {
  "kernelspec": {
   "display_name": "Python 3 (ipykernel)",
   "language": "python",
   "name": "python3"
  },
  "language_info": {
   "codemirror_mode": {
    "name": "ipython",
    "version": 3
   },
   "file_extension": ".py",
   "mimetype": "text/x-python",
   "name": "python",
   "nbconvert_exporter": "python",
   "pygments_lexer": "ipython3",
   "version": "3.11.5"
  }
 },
 "nbformat": 4,
 "nbformat_minor": 5
}
